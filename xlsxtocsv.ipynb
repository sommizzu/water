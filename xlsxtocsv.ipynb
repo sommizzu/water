{
 "cells": [
  {
   "cell_type": "code",
   "execution_count": 2,
   "id": "cc1bd32e",
   "metadata": {},
   "outputs": [],
   "source": [
    "import pandas as pd\n",
    "\n",
    "# 엑셀 파일 경로\n",
    "file_path = '.\\data\\지하수기초조사 데이터\\지하수기초조사_수리상수DB.xlsx'\n",
    "\n",
    "# 두 번째 시트(시트2)만 읽기 (시트 인덱스는 0부터 시작하므로 1이 두 번째 시트)\n",
    "df = pd.read_excel(file_path, sheet_name=1)\n",
    "\n",
    "# CSV 파일로 저장 (utf-8-sig 인코딩 사용)\n",
    "df.to_csv('지하수기초조사_수리상수DB.csv', index=False, encoding='utf-8-sig')\n"
   ]
  },
  {
   "cell_type": "code",
   "execution_count": 3,
   "id": "517d5130",
   "metadata": {},
   "outputs": [],
   "source": [
    "import pandas as pd\n",
    "\n",
    "# 엑셀 파일 경로\n",
    "file_path = './data/지하수기초조사 데이터/지하수기초조사_수질DB.xlsx'\n",
    "\n",
    "# 두 번째 시트(시트2)만 읽기 (시트 인덱스는 0부터 시작하므로 1이 두 번째 시트)\n",
    "df = pd.read_excel(file_path, sheet_name=1)\n",
    "\n",
    "# CSV 파일로 저장 (utf-8-sig 인코딩 사용)\n",
    "df.to_csv('지하수기초조사_수질DB.csv', index=False, encoding='utf-8-sig')"
   ]
  },
  {
   "cell_type": "code",
   "execution_count": 4,
   "id": "6846663a",
   "metadata": {},
   "outputs": [
    {
     "name": "stdout",
     "output_type": "stream",
     "text": [
      "['1-1. 생활계(인구)', '1-2. 생활계(물사용량)', '2. 축산계', '3. 산업계', '4. 토지계', '5. 양식계', '6. 매립계', '7. 기타수질오염원', '환경기초시설_1. 기본현황', '환경기초시설_2-1. 총유입량', '환경기초시설_2-2. 총유입량', '환경기초시설_3-1. 관로이송량', '환경기초시설_3-2. 관로이송량', '환경기초시설_4. 직접이송량', '환경기초시설_5-1. 방류량', '환경기초시설_5-2. 방류량']\n"
     ]
    }
   ],
   "source": [
    "import pandas as pd\n",
    "\n",
    "# 엑셀 파일 경로\n",
    "file_path = './data/전국오염원 조사자료/환경부 국립환경과학원_전국오염원 조사자료_20231231.xlsx'\n",
    "\n",
    "# 엑셀 파일의 시트 이름 목록 불러오기\n",
    "excel_file = pd.ExcelFile(file_path)\n",
    "sheet_names = excel_file.sheet_names\n",
    "\n",
    "# 시트 이름 출력\n",
    "print(sheet_names)\n"
   ]
  },
  {
   "cell_type": "code",
   "execution_count": 5,
   "id": "1baea079",
   "metadata": {},
   "outputs": [
    {
     "name": "stdout",
     "output_type": "stream",
     "text": [
      "Saved: ./data/전국오염원 조사자료/1_1__생활계_인구_.csv\n",
      "Saved: ./data/전국오염원 조사자료/1_2__생활계_물사용량_.csv\n",
      "Saved: ./data/전국오염원 조사자료/2__축산계.csv\n",
      "Saved: ./data/전국오염원 조사자료/3__산업계.csv\n",
      "Saved: ./data/전국오염원 조사자료/4__토지계.csv\n",
      "Saved: ./data/전국오염원 조사자료/5__양식계.csv\n",
      "Saved: ./data/전국오염원 조사자료/6__매립계.csv\n",
      "Saved: ./data/전국오염원 조사자료/7__기타수질오염원.csv\n",
      "Saved: ./data/전국오염원 조사자료/환경기초시설_1__기본현황.csv\n",
      "Saved: ./data/전국오염원 조사자료/환경기초시설_2_1__총유입량.csv\n",
      "Saved: ./data/전국오염원 조사자료/환경기초시설_2_2__총유입량.csv\n",
      "Saved: ./data/전국오염원 조사자료/환경기초시설_3_1__관로이송량.csv\n",
      "Saved: ./data/전국오염원 조사자료/환경기초시설_3_2__관로이송량.csv\n",
      "Saved: ./data/전국오염원 조사자료/환경기초시설_4__직접이송량.csv\n",
      "Saved: ./data/전국오염원 조사자료/환경기초시설_5_1__방류량.csv\n",
      "Saved: ./data/전국오염원 조사자료/환경기초시설_5_2__방류량.csv\n"
     ]
    }
   ],
   "source": [
    "import pandas as pd\n",
    "import os\n",
    "\n",
    "file_path = './data/전국오염원 조사자료/환경부 국립환경과학원_전국오염원 조사자료_20231231.xlsx'\n",
    "# 저장할 폴더 경로\n",
    "save_dir = './data/전국오염원 조사자료/'\n",
    "\n",
    "# 폴더 없으면 생성\n",
    "os.makedirs(save_dir, exist_ok=True)\n",
    "\n",
    "# 엑셀 파일 시트명 로드\n",
    "excel_file = pd.ExcelFile(file_path)\n",
    "\n",
    "# 모든 시트 반복 저장\n",
    "for sheet_name in excel_file.sheet_names:\n",
    "    # 시트 읽기\n",
    "    df = pd.read_excel(file_path, sheet_name=sheet_name)\n",
    "    # 파일명에서 특수문자/공백 제거\n",
    "    safe_name = \"\".join([c if c.isalnum() or c == \"_\" else \"_\" for c in sheet_name])\n",
    "    # 저장 경로 지정\n",
    "    save_path = os.path.join(save_dir, f\"{safe_name}.csv\")\n",
    "    # CSV로 저장\n",
    "    df.to_csv(save_path, index=False, encoding='utf-8-sig')\n",
    "    print(f\"Saved: {save_path}\")\n",
    "\n"
   ]
  }
 ],
 "metadata": {
  "kernelspec": {
   "display_name": "base",
   "language": "python",
   "name": "python3"
  },
  "language_info": {
   "codemirror_mode": {
    "name": "ipython",
    "version": 3
   },
   "file_extension": ".py",
   "mimetype": "text/x-python",
   "name": "python",
   "nbconvert_exporter": "python",
   "pygments_lexer": "ipython3",
   "version": "3.11.7"
  }
 },
 "nbformat": 4,
 "nbformat_minor": 5
}
